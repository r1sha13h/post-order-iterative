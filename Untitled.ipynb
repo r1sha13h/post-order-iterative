{
 "cells": [
  {
   "cell_type": "code",
   "execution_count": 3,
   "metadata": {},
   "outputs": [],
   "source": [
    "class node:     \n",
    "    # Constructor to create a node \n",
    "    def __init__(self, data): \n",
    "        self.data = data \n",
    "        self.left = None\n",
    "        self.right = None"
   ]
  },
  {
   "cell_type": "code",
   "execution_count": 4,
   "metadata": {},
   "outputs": [],
   "source": [
    "# Iterative function that perfroms post-order traversal  \n",
    "def DFS(root):  \n",
    "    if root is None: \n",
    "        return        \n",
    "      \n",
    "    # Create two stacks  \n",
    "    stack1 = [] \n",
    "    stack2 = [] \n",
    "      \n",
    "    # Push root to stack1 \n",
    "    stack1.append(root) \n",
    "      \n",
    "    # Run while stack1 is not empty \n",
    "    while len(stack1) > 0: \n",
    "          \n",
    "        # Pop an item from stack1 and push into stack2 \n",
    "        node = stack1.pop() \n",
    "        stack2.append(node) \n",
    "      \n",
    "        # Push left and right children of popped item to stack1 \n",
    "        if node.left: \n",
    "            stack1.append(node.left) \n",
    "        if node.right: \n",
    "            stack1.append(node.right) \n",
    "  \n",
    "    # Pop all items of stack2 \n",
    "    while len(stack2) > 0: \n",
    "        node = stack2.pop() \n",
    "        print(node.data,end = ' ') "
   ]
  },
  {
   "cell_type": "code",
   "execution_count": 7,
   "metadata": {},
   "outputs": [
    {
     "name": "stdout",
     "output_type": "stream",
     "text": [
      "Output : \n",
      "4 3 2 1 8 5 9 "
     ]
    }
   ],
   "source": [
    "# Driver program to test above function \n",
    "if __name__ == '__main__' : \n",
    "    root = node(9) \n",
    "    root.left = node(2) \n",
    "    root.right = node(5) \n",
    "    root.left.left = node(4) \n",
    "    root.left.right = node(3) \n",
    "    root.right.left = node(1) \n",
    "    root.right.right = node(8)\n",
    "    print('Output : ')\n",
    "    DFS(root) "
   ]
  }
 ],
 "metadata": {
  "kernelspec": {
   "display_name": "Python 3",
   "language": "python",
   "name": "python3"
  },
  "language_info": {
   "codemirror_mode": {
    "name": "ipython",
    "version": 3
   },
   "file_extension": ".py",
   "mimetype": "text/x-python",
   "name": "python",
   "nbconvert_exporter": "python",
   "pygments_lexer": "ipython3",
   "version": "3.7.3"
  }
 },
 "nbformat": 4,
 "nbformat_minor": 2
}
